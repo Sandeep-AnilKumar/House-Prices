{
 "cells": [
  {
   "cell_type": "markdown",
   "metadata": {},
   "source": [
    "House Prices Kaggle Notebook"
   ]
  },
  {
   "cell_type": "code",
   "execution_count": 21,
   "metadata": {},
   "outputs": [],
   "source": [
    "%matplotlib inline\n",
    "\n",
    "import csv\n",
    "import matplotlib.pyplot as plt\n",
    "import pandas as pd\n",
    "import math\n",
    "from sklearn.ensemble import GradientBoostingRegressor as gBR\n",
    "import time\n",
    "from sklearn import metrics"
   ]
  },
  {
   "cell_type": "code",
   "execution_count": 22,
   "metadata": {},
   "outputs": [],
   "source": [
    "train_csv = csv.reader(open('train.csv','rt'), delimiter=',')\n",
    "train_data = list()\n",
    "\n",
    "for data in train_csv:\n",
    "    train_data.append(data)\n",
    "\n",
    "length = len(train_data)\n",
    "sale_prices = list()\n",
    "\n",
    "for i in range(1, length):\n",
    "    sale_prices.append(int(train_data[i][80]))\n",
    "\n",
    "X = sale_prices\n",
    "Y = list(i for i in range(0, len(sale_prices)))"
   ]
  },
  {
   "cell_type": "markdown",
   "metadata": {},
   "source": [
    "Plotting the raw sale price data"
   ]
  },
  {
   "cell_type": "code",
   "execution_count": 23,
   "metadata": {},
   "outputs": [
    {
     "data": {
      "image/png": "[encoded data removed]",
      "text/plain": [
       "<matplotlib.figure.Figure at 0x10997e9d0>"
      ]
     },
     "metadata": {},
     "output_type": "display_data"
    }
   ],
   "source": [
    "plt.hist(X, bins=20)\n",
    "plt.xlabel(\"sale_prices\")\n",
    "plt.ylabel(\"frequency\")\n",
    "plt.title(\"Raw Sale Price Plot\")\n",
    "plt.show()"
   ]
  },
  {
   "cell_type": "markdown",
   "metadata": {},
   "source": [
    "Plotting the normalized sale price data"
   ]
  },
  {
   "cell_type": "code",
   "execution_count": 24,
   "metadata": {},
   "outputs": [
    {
     "data": {
      "image/png": "[encoded data removed]",
      "text/plain": [
       "<matplotlib.figure.Figure at 0x1099e4ad0>"
      ]
     },
     "metadata": {},
     "output_type": "display_data"
    }
   ],
   "source": [
    "log_sale_prices = list()\n",
    "for price in sale_prices:\n",
    "    log_sale_prices.append(math.log10(price))\n",
    "\n",
    "plt.hist(log_sale_prices, bins=20)\n",
    "plt.xlabel(\"log_sale_prices\")\n",
    "plt.ylabel(\"frequency\")\n",
    "plt.title(\"Log Sale Price Plot\")\n",
    "plt.show()"
   ]
  },
  {
   "cell_type": "markdown",
   "metadata": {},
   "source": [
    "Training the Gradient Boost Regressor on training data and predicting on testing data."
   ]
  },
  {
   "cell_type": "code",
   "execution_count": 27,
   "metadata": {},
   "outputs": [],
   "source": [
    "start_time = time.time()\n",
    "\n",
    "train_df = pd.read_csv('train.csv')\n",
    "train_df_dict = dict()\n",
    "\n",
    "length = len(train_df)\n",
    "\n",
    "for i in range(length):\n",
    "     train_df_dict[train_df.loc[i, 'Id']] = train_df.loc[i, 'SalePrice']\n",
    "     train_df.loc[i, 'SalePrice'] = math.log10(float(train_df.loc[i, 'SalePrice']))"
   ]
  },
  {
   "cell_type": "markdown",
   "metadata": {},
   "source": [
    "Encoding the categorical attributes."
   ]
  },
  {
   "cell_type": "code",
   "execution_count": 28,
   "metadata": {},
   "outputs": [],
   "source": [
    "col = list(c for c in train_df.columns)\n",
    "col = col[1: len(col) - 1]\n",
    "\n",
    "for i in col:\n",
    "     train_df.loc[:, i] = train_df.loc[:, i].astype('category')\n",
    "\n",
    "categorical_columns = train_df.select_dtypes(['category']).columns\n",
    "train_df[categorical_columns] = train_df[categorical_columns].apply(lambda x: x.cat.codes)"
   ]
  },
  {
   "cell_type": "markdown",
   "metadata": {},
   "source": [
    "Sampling the training data"
   ]
  },
  {
   "cell_type": "code",
   "execution_count": 29,
   "metadata": {},
   "outputs": [],
   "source": [
    "train_df = train_df.sample(frac=1).reset_index(drop=True)\n",
    "\n",
    "train_df_vector = train_df.iloc[:, 1: len(col)]\n",
    "train_df_target = train_df.iloc[:, len(col) + 1]"
   ]
  },
  {
   "cell_type": "markdown",
   "metadata": {},
   "source": [
    "Reading the test.csv file for vectors and encoding the categorical attributes"
   ]
  },
  {
   "cell_type": "code",
   "execution_count": 30,
   "metadata": {},
   "outputs": [],
   "source": [
    "test_df = pd.read_csv('test.csv')\n",
    "test_data_ids = list(test_df['Id'])\n",
    "\n",
    "col = list(c for c in test_df.columns)\n",
    "col = col[1:]\n",
    "\n",
    "for i in col:\n",
    "     test_df.loc[:, i] = test_df.loc[:, i].astype('category')\n",
    "\n",
    "categorical_columns = test_df.select_dtypes(['category']).columns\n",
    "test_df[categorical_columns] = test_df[categorical_columns].apply(lambda x: x.cat.codes)\n",
    "\n",
    "test_df_vector = test_df.iloc[:, 1: len(col)]"
   ]
  },
  {
   "cell_type": "markdown",
   "metadata": {},
   "source": [
    "Testing and predicting on the test data"
   ]
  },
  {
   "cell_type": "code",
   "execution_count": 31,
   "metadata": {},
   "outputs": [
    {
     "name": "stdout",
     "output_type": "stream",
     "text": [
      "Time for the regressor to train and predict on the testing data subset is := 28.37\n"
     ]
    }
   ],
   "source": [
    "reg = gBR(loss='ls', n_estimators=10000)\n",
    "reg = reg.fit(train_df_vector, train_df_target)\n",
    "\n",
    "lr_predict = reg.predict(test_df_vector)\n",
    "print(\"Time for the regressor to train and predict on the testing data subset is := %.2f\" % (time.time() - start_time))"
   ]
  },
  {
   "cell_type": "markdown",
   "metadata": {},
   "source": [
    "Writing the results to a csv file"
   ]
  },
  {
   "cell_type": "code",
   "execution_count": 32,
   "metadata": {},
   "outputs": [
    {
     "name": "stdout",
     "output_type": "stream",
     "text": [
      "Done with predicting Sale Price values for the test data\n"
     ]
    }
   ],
   "source": [
    "csv_file = open(\"submissions.csv\", 'w')\n",
    "wr = csv.writer(csv_file, delimiter=',', quoting=csv.QUOTE_NONE)\n",
    "wr.writerow(['Id', 'SalePrice'])\n",
    "\n",
    "for index in range(0, len(test_data_ids)):\n",
    "    wr.writerow([test_data_ids[index], math.pow(10, lr_predict[index])])\n",
    "    index += 1\n",
    "print(\"Done with predicting Sale Price values for the test data\")\n",
    "csv_file.close()"
   ]
  }
 ],
 "metadata": {
  "kernelspec": {
   "display_name": "Python 2",
   "language": "python",
   "name": "python2"
  },
  "language_info": {
   "codemirror_mode": {
    "name": "ipython",
    "version": 2.0
   },
   "file_extension": ".py",
   "mimetype": "text/x-python",
   "name": "python",
   "nbconvert_exporter": "python",
   "pygments_lexer": "ipython2",
   "version": "2.7.6"
  }
 },
 "nbformat": 4,
 "nbformat_minor": 0
}